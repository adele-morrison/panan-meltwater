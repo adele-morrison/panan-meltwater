{
 "cells": [
  {
   "cell_type": "markdown",
   "id": "dd07eaa7-0256-439c-8a59-b7fc2dd17dc9",
   "metadata": {},
   "source": [
    "# Creating database"
   ]
  },
  {
   "cell_type": "code",
   "execution_count": 1,
   "id": "c94a042a-aac9-439e-8374-a09f27191523",
   "metadata": {},
   "outputs": [],
   "source": [
    "import cosima_cookbook as cc"
   ]
  },
  {
   "cell_type": "code",
   "execution_count": 2,
   "id": "cb889697-8f53-4729-be7d-b083d8990076",
   "metadata": {},
   "outputs": [],
   "source": [
    "ds = '/home/272/kc5856/databases/honours_prescribed.db'\n",
    "session = cc.database.create_session(ds)"
   ]
  },
  {
   "cell_type": "code",
   "execution_count": 3,
   "id": "e80ba653-60be-42f2-bfaa-827f1c2fd4f5",
   "metadata": {
    "scrolled": true
   },
   "outputs": [
    {
     "name": "stdout",
     "output_type": "stream",
     "text": [
      "Indexing experiment: panant-01-zstar-ACCESSyr2\n",
      "Indexing experiment: panant-01-zstar-ssp126-prsc-rest\n"
     ]
    },
    {
     "data": {
      "text/plain": [
       "0"
      ]
     },
     "execution_count": 3,
     "metadata": {},
     "output_type": "execute_result"
    }
   ],
   "source": [
    "# PanAntarctic 1/10th\n",
    "\n",
    "directory_list=['/g/data/ol01/outputs/mom6-panan/panant-01-zstar-ACCESSyr2/', # Pan01 old control\n",
    "                '/scratch/x77/jn8053/mom6/archive/panant-01-zstar-ssp126-prsc-rest/'] #Pan01 melt\n",
    "\n",
    "cc.database.build_index(directory_list, session)"
   ]
  },
  {
   "cell_type": "code",
   "execution_count": 4,
   "id": "63cc20ec-f4e7-4bf0-b9df-298205c8c51a",
   "metadata": {},
   "outputs": [
    {
     "name": "stdout",
     "output_type": "stream",
     "text": [
      "Indexing experiment: 01deg_jra55v13_ryf9091_21mbath_sofia_ssp126_prsc_rest\n",
      "Indexing experiment: 01deg_jra55v13_ryf9091_21mbath\n"
     ]
    },
    {
     "data": {
      "text/plain": [
       "0"
      ]
     },
     "execution_count": 4,
     "metadata": {},
     "output_type": "execute_result"
    }
   ],
   "source": [
    "#Now doing ACCESS\n",
    "\n",
    "directory_list=['/scratch/x77/jn8053/access-om2/archive/01deg_jra55v13_ryf9091_21mbath_sofia_ssp126_prsc_rest/', # ACCESS new melt\n",
    "               '/g/data/ik11/outputs/access-om2-01/01deg_jra55v13_ryf9091_21mbath/'] # ACCESS old control\n",
    "\n",
    "cc.database.build_index(directory_list, session)"
   ]
  },
  {
   "cell_type": "code",
   "execution_count": null,
   "id": "af391b26-e348-4843-89c0-fcc2107e26ab",
   "metadata": {},
   "outputs": [],
   "source": []
  }
 ],
 "metadata": {
  "kernelspec": {
   "display_name": "Python [conda env:analysis3-24.07]",
   "language": "python",
   "name": "conda-env-analysis3-24.07-py"
  },
  "language_info": {
   "codemirror_mode": {
    "name": "ipython",
    "version": 3
   },
   "file_extension": ".py",
   "mimetype": "text/x-python",
   "name": "python",
   "nbconvert_exporter": "python",
   "pygments_lexer": "ipython3",
   "version": "3.11.0"
  }
 },
 "nbformat": 4,
 "nbformat_minor": 5
}
