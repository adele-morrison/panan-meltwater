{
 "cells": [
  {
   "cell_type": "markdown",
   "id": "dd07eaa7-0256-439c-8a59-b7fc2dd17dc9",
   "metadata": {},
   "source": [
    "# Creating database"
   ]
  },
  {
   "cell_type": "code",
   "execution_count": 1,
   "id": "c94a042a-aac9-439e-8374-a09f27191523",
   "metadata": {},
   "outputs": [],
   "source": [
    "import cosima_cookbook as cc"
   ]
  },
  {
   "cell_type": "code",
   "execution_count": 2,
   "id": "cb889697-8f53-4729-be7d-b083d8990076",
   "metadata": {},
   "outputs": [],
   "source": [
    "ds = '/home/272/kc5856/databases/honours_new.db'\n",
    "session = cc.database.create_session(ds)"
   ]
  },
  {
   "cell_type": "code",
   "execution_count": 5,
   "id": "e80ba653-60be-42f2-bfaa-827f1c2fd4f5",
   "metadata": {
    "scrolled": true
   },
   "outputs": [
    {
     "name": "stdout",
     "output_type": "stream",
     "text": [
      "Indexing experiment: panant-01-zstar-ACCESSyr2\n"
     ]
    },
    {
     "name": "stderr",
     "output_type": "stream",
     "text": [
      "100%|██████████| 1000/1000 [02:40<00:00,  6.24it/s]\n",
      "100%|██████████| 1000/1000 [02:30<00:00,  6.66it/s]\n",
      "100%|██████████| 1000/1000 [02:31<00:00,  6.60it/s]\n",
      "100%|██████████| 1000/1000 [02:32<00:00,  6.55it/s]\n",
      "100%|██████████| 1000/1000 [02:30<00:00,  6.64it/s]\n",
      "100%|██████████| 1000/1000 [02:33<00:00,  6.51it/s]\n",
      "100%|██████████| 1000/1000 [02:46<00:00,  6.02it/s]\n",
      "100%|██████████| 1000/1000 [02:39<00:00,  6.26it/s]\n",
      "100%|██████████| 1000/1000 [02:44<00:00,  6.09it/s]\n",
      "100%|██████████| 1000/1000 [02:38<00:00,  6.31it/s]\n",
      "100%|██████████| 1000/1000 [02:47<00:00,  5.97it/s]\n",
      "100%|██████████| 1000/1000 [02:37<00:00,  6.35it/s]\n",
      "100%|██████████| 902/902 [02:30<00:00,  6.00it/s]\n"
     ]
    },
    {
     "name": "stdout",
     "output_type": "stream",
     "text": [
      "Indexing experiment: panant-01-zstar-ssp126-MW-only-prsc-rest\n"
     ]
    },
    {
     "data": {
      "text/plain": [
       "12902"
      ]
     },
     "execution_count": 5,
     "metadata": {},
     "output_type": "execute_result"
    }
   ],
   "source": [
    "# PanAntarctic 1/10th\n",
    "\n",
    "directory_list=['/g/data/ol01/outputs/mom6-panan/panant-01-zstar-ACCESSyr2/', # Pan01 old control\n",
    "                '/scratch/x77/jn8053/mom6/archive/panant-01-zstar-ssp126-MW-only-prsc-rest/'] #Pan01 melt\n",
    "\n",
    "cc.database.build_index(directory_list, session)"
   ]
  },
  {
   "cell_type": "code",
   "execution_count": 7,
   "id": "63cc20ec-f4e7-4bf0-b9df-298205c8c51a",
   "metadata": {},
   "outputs": [
    {
     "name": "stdout",
     "output_type": "stream",
     "text": [
      "Indexing experiment: 01deg_jra55v13_ryf9091_21mbath_sofia_ssp126_prsc_rest\n",
      "Indexing experiment: 01deg_jra55v13_ryf9091_21mbath\n"
     ]
    },
    {
     "name": "stderr",
     "output_type": "stream",
     "text": [
      "100%|██████████| 1000/1000 [01:53<00:00,  8.83it/s]\n",
      "100%|██████████| 1000/1000 [02:14<00:00,  7.42it/s]\n",
      "100%|██████████| 543/543 [01:14<00:00,  7.27it/s]\n"
     ]
    },
    {
     "data": {
      "text/plain": [
       "2543"
      ]
     },
     "execution_count": 7,
     "metadata": {},
     "output_type": "execute_result"
    }
   ],
   "source": [
    "#Now doing ACCESS\n",
    "\n",
    "directory_list=['/scratch/x77/jn8053/access-om2/archive/01deg_jra55v13_ryf9091_21mbath_sofia_ssp126_prsc_rest/', # ACCESS melt\n",
    "               '/g/data/ik11/outputs/access-om2-01/01deg_jra55v13_ryf9091_21mbath/'] # ACCESS control\n",
    "\n",
    "cc.database.build_index(directory_list, session)"
   ]
  },
  {
   "cell_type": "code",
   "execution_count": null,
   "id": "af391b26-e348-4843-89c0-fcc2107e26ab",
   "metadata": {},
   "outputs": [],
   "source": []
  }
 ],
 "metadata": {
  "kernelspec": {
   "display_name": "Python [conda env:analysis3-24.07]",
   "language": "python",
   "name": "conda-env-analysis3-24.07-py"
  },
  "language_info": {
   "codemirror_mode": {
    "name": "ipython",
    "version": 3
   },
   "file_extension": ".py",
   "mimetype": "text/x-python",
   "name": "python",
   "nbconvert_exporter": "python",
   "pygments_lexer": "ipython3",
   "version": "3.11.0"
  }
 },
 "nbformat": 4,
 "nbformat_minor": 5
}
