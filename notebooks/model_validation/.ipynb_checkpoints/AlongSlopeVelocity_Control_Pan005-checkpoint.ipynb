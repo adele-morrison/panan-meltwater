{
 "cells": [
  {
   "cell_type": "markdown",
   "id": "c8ee5e7c-a9c9-45df-994a-cb85f017e88d",
   "metadata": {},
   "source": [
    "# ASC Pan005 validation"
   ]
  },
  {
   "cell_type": "code",
   "execution_count": null,
   "id": "996d4acf-fa87-47bb-a038-b250ac2c810d",
   "metadata": {},
   "outputs": [],
   "source": [
    "import intake\n",
    "import glob\n",
    "import dask.distributed as dsk\n",
    "import matplotlib.pyplot as plt\n",
    "import xarray as xr\n",
    "import cf_xarray as cfxr\n",
    "import numpy as np\n",
    "import xesmf as xe\n",
    "from pathlib import Path\n",
    "import xgcm\n",
    "\n",
    "import cmocean as cm\n",
    "import cartopy.crs as ccrs\n",
    "\n",
    "import cartopy.feature as cft\n",
    "import matplotlib.path as mpath\n",
    "\n",
    "import warnings # ignore these warnings\n",
    "warnings.filterwarnings(\"ignore\", category = FutureWarning)\n",
    "warnings.filterwarnings(\"ignore\", category = UserWarning)\n",
    "warnings.filterwarnings(\"ignore\", category = RuntimeWarning)"
   ]
  },
  {
   "cell_type": "code",
   "execution_count": null,
   "id": "a0848ef2-0dc2-44db-bbaa-dfbdc32951b3",
   "metadata": {},
   "outputs": [],
   "source": [
    "#Starting a dask client\n",
    "from os import environ\n",
    "environ[\"PYTHONWARNINGS\"] = \"ignore\"\n",
    "\n",
    "from dask.distributed import Client\n",
    "client = Client(threads_per_worker=1)\n",
    "client"
   ]
  },
  {
   "cell_type": "code",
   "execution_count": null,
   "id": "443e1cff-1732-40e2-9a1d-c9dd7c4c4bf8",
   "metadata": {},
   "outputs": [],
   "source": [
    "# Importing data\n",
    "pathsC = np.sort(glob.glob('/g/data/ol01/outputs/mom6-panan/panant-005-zstar-ACCESSyr2/outpu*/*.ocean_month_z.nc'))[120:]"
   ]
  },
  {
   "cell_type": "code",
   "execution_count": null,
   "id": "c7d3495d-5551-4365-849b-dfb6b9688d3d",
   "metadata": {},
   "outputs": [],
   "source": [
    "#Time variant variables\n",
    "def preprocess(ds):\n",
    "    ds = ds[['uo', 'vo','volcello']]\n",
    "    return ds\n",
    "\n",
    "cont = xr.open_mfdataset(pathsC, preprocess = preprocess, chunks = 'auto')"
   ]
  },
  {
   "cell_type": "code",
   "execution_count": null,
   "id": "85404b49-0706-4987-9fd5-919d8deb19fd",
   "metadata": {},
   "outputs": [],
   "source": [
    "#Time slicing\n",
    "cont = cont.sel(time=slice('2001-01-01','2010-12-31'))\n",
    "\n",
    "uC = cont['uo'].sel(yh = slice(-80, -59), z_l = slice(None, 500)).sel(time=slice('2001-01-01','2010-12-31')).mean('time')\n",
    "vC = cont['vo'].sel(yq = slice(-80, -59), z_l = slice(None, 500)).sel(time=slice('2001-01-01','2010-12-31')).mean('time')"
   ]
  },
  {
   "cell_type": "code",
   "execution_count": null,
   "id": "6816eec8-7682-4df8-b2c5-609aa1024dc1",
   "metadata": {},
   "outputs": [],
   "source": [
    "cont_n = xr.merge([uC,vC])\n",
    "cont_n= cont_n.isel(xq = slice(1, None), yq = slice(0, None))"
   ]
  },
  {
   "cell_type": "code",
   "execution_count": null,
   "id": "93a080b4-b067-47f4-bd6f-cce59a1c2132",
   "metadata": {},
   "outputs": [],
   "source": [
    "path_to_ocean_static_C = Path('/g/data/ol01/outputs/mom6-panan/panant-005-zstar-ACCESSyr2/output239/20101201.ocean_static.nc')\n",
    "ocean_static_C = xr.open_dataset(path_to_ocean_static_C)\n",
    "\n",
    "ocean_static_C = ocean_static_C.sel(xq = cont_n['xq'], xh = cont_n['xh'], yq = cont_n['yq'], yh = cont_n['yh'])"
   ]
  },
  {
   "cell_type": "code",
   "execution_count": null,
   "id": "761f60a5-e926-4dc5-9576-0b7296c47178",
   "metadata": {},
   "outputs": [],
   "source": [
    "grid_C = xgcm.Grid(ocean_static_C, coords = {'X': {'center': 'xh', 'right': 'xq'},\n",
    "                                             'Y': {'center': 'yh', 'right': 'yq'}},\n",
    "                                               periodic = ['X'])"
   ]
  },
  {
   "cell_type": "code",
   "execution_count": null,
   "id": "f1d8e2b0-aa3f-48f0-9da6-946d6aee567b",
   "metadata": {},
   "outputs": [],
   "source": [
    "dh_dx_C = grid_C.interp(grid_C.diff(ocean_static_C['deptho'], 'X') / ocean_static_C['dxCu'], 'Y')\n",
    "dh_dy_C = grid_C.interp(grid_C.diff(ocean_static_C['deptho'], 'Y') / ocean_static_C['dyCv'], 'X')"
   ]
  },
  {
   "cell_type": "code",
   "execution_count": null,
   "id": "f6ce7c5f-598d-454e-a1e5-0c8484438311",
   "metadata": {},
   "outputs": [],
   "source": [
    "uC_int = grid_C.interp(cont_n['uo'], 'Y')\n",
    "vC_int = grid_C.interp(cont_n['vo'], 'X')"
   ]
  },
  {
   "cell_type": "code",
   "execution_count": null,
   "id": "01f2c16f-3cb6-455f-8949-94e337643a31",
   "metadata": {},
   "outputs": [],
   "source": [
    "uC_int"
   ]
  },
  {
   "cell_type": "code",
   "execution_count": null,
   "id": "9f378f59-7df4-4989-8529-4eef2cfee9ff",
   "metadata": {},
   "outputs": [],
   "source": [
    "vC_int"
   ]
  },
  {
   "cell_type": "code",
   "execution_count": null,
   "id": "00273215-3621-48ff-8d80-315c1971088b",
   "metadata": {},
   "outputs": [],
   "source": [
    "slope_C = np.sqrt(dh_dy_C**2 + dh_dx_C**2)"
   ]
  },
  {
   "cell_type": "code",
   "execution_count": null,
   "id": "57238700-5727-4333-8fa4-13663940caa3",
   "metadata": {},
   "outputs": [],
   "source": [
    "testC = uC_int*dh_dy_C - vC_int*dh_dx_C"
   ]
  },
  {
   "cell_type": "code",
   "execution_count": null,
   "id": "d966e4c0-7467-4213-9a74-e940d3a5703e",
   "metadata": {},
   "outputs": [],
   "source": [
    "alongslope_velocity_C = testC/slope_C"
   ]
  },
  {
   "cell_type": "code",
   "execution_count": null,
   "id": "40cdac8d-4a71-4b56-bdfe-66679550c0d4",
   "metadata": {},
   "outputs": [],
   "source": [
    "alongslope_velocity_C = alongslope_velocity_C.astype('float32')"
   ]
  },
  {
   "cell_type": "code",
   "execution_count": null,
   "id": "8f64577c-42bb-43dc-921d-8467626e0d1b",
   "metadata": {},
   "outputs": [],
   "source": [
    "alongslope_velocity_C"
   ]
  },
  {
   "cell_type": "code",
   "execution_count": null,
   "id": "ef3ca5d5-7dff-4aa8-96c4-099b70256f9a",
   "metadata": {
    "scrolled": true
   },
   "outputs": [],
   "source": [
    "alongslope_velocity_C = alongslope_velocity_C.load()"
   ]
  },
  {
   "cell_type": "code",
   "execution_count": null,
   "id": "74ec2f67-a8e9-4687-a976-7064b327ca81",
   "metadata": {},
   "outputs": [],
   "source": [
    "depth = xr.open_dataset(path_to_ocean_static_C)['deptho']\n",
    "area = xr.open_dataset(path_to_ocean_static_C)['areacello']\n",
    "var = xr.open_dataset('/g/data/ol01/outputs/mom6-panan/panant-005-zstar-ACCESSyr2/output239/20101201.ocean_month_z.nc')['so'].isel(time=0,z_l=0)"
   ]
  },
  {
   "cell_type": "code",
   "execution_count": null,
   "id": "5706a18c-dcdd-4352-ba4b-7f237ab48278",
   "metadata": {},
   "outputs": [],
   "source": [
    "area_corr = area*(var*0 +1)"
   ]
  },
  {
   "cell_type": "code",
   "execution_count": null,
   "id": "168ff8f0-396f-47f6-9302-7ddff894901f",
   "metadata": {},
   "outputs": [],
   "source": [
    "area_corr.plot()"
   ]
  },
  {
   "cell_type": "code",
   "execution_count": null,
   "id": "57322779-e27a-45e0-b72d-5c2a3112505e",
   "metadata": {},
   "outputs": [],
   "source": [
    "volcello = volcello.mean(dim='time')"
   ]
  },
  {
   "cell_type": "code",
   "execution_count": null,
   "id": "562a6680-7d1d-4169-82a1-cebd3a8d1fc5",
   "metadata": {},
   "outputs": [],
   "source": [
    "thickness = volcello / area_corr\n",
    "thickness = thickness.sel(yh=slice(-80, -59)).sel(z_l=slice(None, 500))"
   ]
  },
  {
   "cell_type": "code",
   "execution_count": null,
   "id": "7657d8b8-2dce-4817-ac79-986e1ffdf136",
   "metadata": {},
   "outputs": [],
   "source": [
    "alongslope_velocity_C"
   ]
  },
  {
   "cell_type": "code",
   "execution_count": null,
   "id": "fadde76b-4b81-4dcc-85d4-bf738046a71d",
   "metadata": {},
   "outputs": [],
   "source": [
    "alongslope_velocity_C = grid_C.interp(alongslope_velocity_C, 'Y')\n",
    "alongslope_velocity_C = grid_C.interp(alongslope_velocity_C, 'X')"
   ]
  },
  {
   "cell_type": "code",
   "execution_count": null,
   "id": "cb3622a1-cae0-4a6c-bc99-28bfb714e77d",
   "metadata": {},
   "outputs": [],
   "source": [
    "alongslope_velocity_C"
   ]
  },
  {
   "cell_type": "code",
   "execution_count": null,
   "id": "56d74067-0d5a-4c96-b16e-0c416b046ce5",
   "metadata": {},
   "outputs": [],
   "source": [
    "alongslope_velocity_C.to_netcdf('/g/data/g40/kc5856/thesis_figures/data_files/validation_alongslope_velocity_control_pan005.nc')"
   ]
  },
  {
   "cell_type": "code",
   "execution_count": null,
   "id": "19263b05-1006-45c1-b0a3-27a03565a9b2",
   "metadata": {},
   "outputs": [],
   "source": [
    "barotropic_alongslope_velocity_C = (alongslope_velocity_C * thickness.sum('z_l') / thickness.sum('z_l')"
   ]
  },
  {
   "cell_type": "code",
   "execution_count": null,
   "id": "75d6011a-582a-4bad-a09f-0cd93bb370f4",
   "metadata": {},
   "outputs": [],
   "source": [
    "barotropic_alongslope_velocity_C = barotropic_alongslope_velocity_C.load()"
   ]
  },
  {
   "cell_type": "code",
   "execution_count": null,
   "id": "578646ed-34ab-47de-9d17-292e6c6f0281",
   "metadata": {},
   "outputs": [],
   "source": [
    "barotropic_alongslope_velocity_C.to_netcdf('/g/data/g40/kc5856/thesis_figures/data_files/validation_barotopic_slope_velocity_control_pan005.nc')"
   ]
  },
  {
   "cell_type": "code",
   "execution_count": null,
   "id": "4d051199-7d2e-470e-980d-9389a4bfac0f",
   "metadata": {},
   "outputs": [],
   "source": []
  }
 ],
 "metadata": {
  "kernelspec": {
   "display_name": "Python [conda env:analysis3-25.01]",
   "language": "python",
   "name": "conda-env-analysis3-25.01-py"
  },
  "language_info": {
   "codemirror_mode": {
    "name": "ipython",
    "version": 3
   },
   "file_extension": ".py",
   "mimetype": "text/x-python",
   "name": "python",
   "nbconvert_exporter": "python",
   "pygments_lexer": "ipython3",
   "version": "3.11.11"
  }
 },
 "nbformat": 4,
 "nbformat_minor": 5
}
