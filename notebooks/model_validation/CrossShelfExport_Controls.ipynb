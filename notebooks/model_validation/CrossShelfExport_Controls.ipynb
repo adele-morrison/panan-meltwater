{
 "cells": [
  {
   "cell_type": "markdown",
   "id": "9fb4ea37-f9d0-4d43-89e9-e2dc8d7fed40",
   "metadata": {},
   "source": [
    "# DSW export"
   ]
  },
  {
   "cell_type": "code",
   "execution_count": 1,
   "id": "e1f49961-dd43-415a-b976-b42413f496ba",
   "metadata": {},
   "outputs": [],
   "source": [
    "import glob\n",
    "import dask.distributed as dsk\n",
    "import matplotlib.pyplot as plt\n",
    "from pathlib import Path\n",
    "\n",
    "import cmocean as cm\n",
    "import cartopy.crs as ccrs\n",
    "import cartopy.feature as cft\n",
    "import matplotlib.path as mpath\n",
    "from IPython.display import display, Image\n",
    "\n",
    "import netCDF4 as nc\n",
    "import xarray as xr\n",
    "import numpy as np\n",
    "import xgcm\n",
    "import calendar\n",
    "\n",
    "from matplotlib import gridspec\n",
    "from collections import OrderedDict\n",
    "\n",
    "import warnings # ignore these warnings\n",
    "warnings.filterwarnings(\"ignore\", category = FutureWarning)\n",
    "warnings.filterwarnings(\"ignore\", category = UserWarning)\n",
    "warnings.filterwarnings(\"ignore\", category = RuntimeWarning)"
   ]
  },
  {
   "cell_type": "code",
   "execution_count": null,
   "id": "16e32c71-815d-4d38-a8de-dc06e79f6304",
   "metadata": {},
   "outputs": [],
   "source": [
    "from dask.distributed import Client\n",
    "client = Client(threads_per_worker=1)\n",
    "client"
   ]
  },
  {
   "cell_type": "code",
   "execution_count": null,
   "id": "9ab17304-1769-43ad-b98c-09fff79f0c90",
   "metadata": {},
   "outputs": [],
   "source": [
    "# Contour mask\n",
    "contour_mask_1 = xr.open_dataset('/g/data/ik11/grids/Antarctic_slope_contour_1000m_MOM6_01deg.nc')#['contour_masked_above']\n",
    "contour_mask_2 = xr.open_dataset('/g/data/ik11/grids/Antarctic_slope_contour_1000m_MOM6_005deg.nc')#['contour_masked_above']\n",
    "contour_mask_3"
   ]
  },
  {
   "cell_type": "code",
   "execution_count": null,
   "id": "fcf2da51-ba96-40b9-9019-23a838164316",
   "metadata": {},
   "outputs": [],
   "source": [
    "lat_slice = slice(-79,-59)\n",
    "grid_01 = xr.open_dataset('/g/data/ol01/outputs/mom6-panan/panant-01-zstar-ACCESSyr2/output050/20050501.ocean_static.nc')#.sel(yq=lat_slice,yh=lat_slice)\n",
    "grid_005 = xr.open_dataset('/g/data/ol01/outputs/mom6-panan/panant-005-zstar-ACCESSyr2/output030/19930701.ocean_static.nc')#.sel(yq=lat_slice,yh=lat_slice)\n",
    "grid_acc = xr.open_dataset("
   ]
  },
  {
   "cell_type": "code",
   "execution_count": null,
   "id": "5e5f0a60-274d-4e0a-b56b-cbd2fadfae11",
   "metadata": {},
   "outputs": [],
   "source": [
    "# Grids and masks\n",
    "grids = {'01deg': grid_01, '005deg': grid_005, 'access': grid_acc}\n",
    "masks = {'01deg': contour_mask_1, '005deg': contour_mask_2, 'access': contour_mask_3}\n",
    "\n",
    "# Dictionary to store results\n",
    "contour_data = {}\n",
    "\n",
    "for res in ['01deg', '005deg', 'access']:\n",
    "    grid = grids[res]\n",
    "    contour_mask = masks[res]\n",
    "\n",
    "    # Select grid coordinates\n",
    "    yh = grid['yh'].sel(yh=lat_slice)\n",
    "    yq = grid['yq'].sel(yq=lat_slice)\n",
    "    xh = grid['xh']\n",
    "    xq = grid['xq']\n",
    "\n",
    "    # Select masks for this lat slice\n",
    "    mask_y_transport = contour_mask['mask_y_transport'].sel(yq=lat_slice)\n",
    "    mask_x_transport = contour_mask['mask_x_transport'].sel(yh=lat_slice)\n",
    "    mask_y_transport_numbered = contour_mask['mask_y_transport_numbered'].sel(yq=lat_slice)\n",
    "    mask_x_transport_numbered = contour_mask['mask_x_transport_numbered'].sel(yh=lat_slice)\n",
    "\n",
    "    mask_x_transport = xr.DataArray(\n",
    "        mask_x_transport,\n",
    "        coords=[yh[:mask_x_transport.shape[0]], xq[:mask_x_transport.shape[1]]],\n",
    "        dims=['y_ocean', 'x_ocean']\n",
    "    )\n",
    "    mask_y_transport = xr.DataArray(\n",
    "        mask_y_transport,\n",
    "        coords=[yq[:mask_y_transport.shape[0]], xh[:mask_y_transport.shape[1]]],\n",
    "        dims=['y_ocean', 'x_ocean']\n",
    "    )\n",
    "    mask_x_transport_numbered = xr.DataArray(\n",
    "        mask_x_transport_numbered,\n",
    "        coords=[yh[:mask_x_transport_numbered.shape[0]], xq[:mask_x_transport_numbered.shape[1]]],\n",
    "        dims=['y_ocean', 'x_ocean']\n",
    "    )\n",
    "    mask_y_transport_numbered = xr.DataArray(\n",
    "        mask_y_transport_numbered,\n",
    "        coords=[yq[:mask_y_transport_numbered.shape[0]], xh[:mask_y_transport_numbered.shape[1]]],\n",
    "        dims=['y_ocean', 'x_ocean']\n",
    "    )\n",
    "\n",
    "    # Stack contour data into 1D\n",
    "    mask_x_numbered_1d = mask_x_transport_numbered.stack(contour_index=['y_ocean', 'x_ocean'])\n",
    "    mask_x_numbered_1d = mask_x_numbered_1d.where(mask_x_numbered_1d > 0, drop=True)\n",
    "    mask_y_numbered_1d = mask_y_transport_numbered.stack(contour_index=['y_ocean', 'x_ocean'])\n",
    "    mask_y_numbered_1d = mask_y_numbered_1d.where(mask_y_numbered_1d > 0, drop=True)\n",
    "\n",
    "    # Combine and sort contour\n",
    "    contour_ordering = xr.concat((mask_x_numbered_1d, mask_y_numbered_1d), dim='contour_index')\n",
    "    contour_ordering = contour_ordering.sortby(contour_ordering)\n",
    "    contour_index_array = np.arange(1, len(contour_ordering) + 1)\n",
    "\n",
    "    # Get lat/lon along contour\n",
    "    lat_along_contour = contour_ordering.y_ocean\n",
    "    lon_along_contour = contour_ordering.x_ocean\n",
    "    lat_along_contour.coords['contour_index'] = contour_index_array\n",
    "    lon_along_contour.coords['contour_index'] = contour_index_array\n",
    "\n",
    "    # Save results\n",
    "    contour_data[res] = {\n",
    "        'lat': lat_along_contour,\n",
    "        'lon': lon_along_contour,\n",
    "        'contour_index': contour_index_array\n",
    "    }\n"
   ]
  }
 ],
 "metadata": {
  "kernelspec": {
   "display_name": "Python [conda env:analysis3-25.09] *",
   "language": "python",
   "name": "conda-env-analysis3-25.09-py"
  },
  "language_info": {
   "codemirror_mode": {
    "name": "ipython",
    "version": 3
   },
   "file_extension": ".py",
   "mimetype": "text/x-python",
   "name": "python",
   "nbconvert_exporter": "python",
   "pygments_lexer": "ipython3",
   "version": "3.11.13"
  }
 },
 "nbformat": 4,
 "nbformat_minor": 5
}
