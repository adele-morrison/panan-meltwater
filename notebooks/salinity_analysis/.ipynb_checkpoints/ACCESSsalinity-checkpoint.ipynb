{
 "cells": [
  {
   "cell_type": "markdown",
   "id": "08d635d7-af82-4616-92be-b18f8e7a7447",
   "metadata": {},
   "source": [
    "# ACCESS-OM2 Salinity"
   ]
  },
  {
   "cell_type": "code",
   "execution_count": null,
   "id": "7db02e7d-3d39-43ae-ae85-e1bad2c33194",
   "metadata": {},
   "outputs": [],
   "source": [
    "import intake\n",
    "\n",
    "import matplotlib.pyplot as plt\n",
    "import xarray as xr\n",
    "import cf_xarray as cfxr\n",
    "import numpy as np\n",
    "\n",
    "import cmocean as cm\n",
    "import cartopy.crs as ccrs\n",
    "\n",
    "import cartopy.feature as cft\n",
    "import matplotlib.path as mpath"
   ]
  },
  {
   "cell_type": "code",
   "execution_count": null,
   "id": "7aa6864c-2f46-4a6d-9186-02586ecb16af",
   "metadata": {},
   "outputs": [],
   "source": [
    "acccontrol = intake.open_esm_datastore('/home/272/kc5856/access_control_new.json', columns_with_iterables=['variable'])\n",
    "accmelt = intake.open_esm_datastore('/home/272/kc5856/access_meltwater_ssp126.json', columns_with_iterables=['variable'])"
   ]
  },
  {
   "cell_type": "code",
   "execution_count": null,
   "id": "f3cb4d02-b9c4-4723-976b-2336677195d6",
   "metadata": {},
   "outputs": [],
   "source": [
    "#Starting a dask client\n",
    "from os import environ\n",
    "environ[\"PYTHONWARNINGS\"] = \"ignore\"\n",
    "\n",
    "from dask.distributed import Client\n",
    "client = Client(threads_per_worker=1)\n",
    "client"
   ]
  },
  {
   "cell_type": "code",
   "execution_count": null,
   "id": "18ff9697-87ee-4e32-ba1a-e11e7465de40",
   "metadata": {},
   "outputs": [],
   "source": [
    "#Time variant variables #ASK HOW TO CONDENSE\n",
    "control_SO = acccontrol.search(variable=\"salt\", frequency=\"1mon\").to_dask()\n",
    "melt_SO = accmelt.search(variable=\"salt\", frequency=\"1mon\").to_dask()"
   ]
  },
  {
   "cell_type": "code",
   "execution_count": null,
   "id": "8b62fb48-59d9-4cd6-8595-b21eeb95f53d",
   "metadata": {},
   "outputs": [],
   "source": [
    "#Area weighting\n",
    "data_fixed = acccontrol.search(variable=[\"area_t\",\"ht\"],path=\".*output021.*\").to_dask()\n",
    "area = data_fixed.area_t\n",
    "vol = acccontrol.search(variable=[\"volcello\"],path=\".*output021.*\"]).to_dask()\n",
    "thick = vol / area\n",
    "thick = thick.load()"
   ]
  },
  {
   "cell_type": "code",
   "execution_count": null,
   "id": "2a0f3faa-3564-47e6-96fd-769e40fadce6",
   "metadata": {},
   "outputs": [],
   "source": [
    "def shelf_mask_isobath(var, model_dict):\n",
    "\n",
    "    paths = {\n",
    "             \"mom5\": \"/g/data/ik11/grids/Antarctic_slope_contour_1000m.npz\",\n",
    "             \"mom6\": \"/g/data/ik11/grids/Antarctic_slope_contour_1000m_MOM6_01deg.nc\",\n",
    "            \"mom6_005\": \"/g/data/ik11/grids/Antarctic_slope_contour_1000m_MOM6_005deg.nc\"\n",
    "             }\n",
    "\n",
    "    var = var.cf.sel({'latitude': slice(-90, -59)})\n",
    "\n",
    "    if paths[model_dict][-3:] == '.nc':\n",
    "        shelf_mask = xr.open_dataset(paths[model_dict])['contour_masked_above']\n",
    "    else:\n",
    "        contour_file = np.load(paths[model_dict])\n",
    "        shelf_mask = xr.DataArray(contour_file['contour_masked_above'],\n",
    "                                  coords = var.coords, \n",
    "                                  dims = var.dims,\n",
    "                                  name = 'contour_masked_above')\n",
    "    \n",
    "    shelf_mask = xr.where(shelf_mask == 0, 1, 0)\n",
    "    masked_var = var * shelf_mask\n",
    "    \n",
    "    return masked_var, shelf_mask"
   ]
  },
  {
   "cell_type": "code",
   "execution_count": null,
   "id": "8e5adfc3-7082-44db-8806-9e4375c34f9e",
   "metadata": {},
   "outputs": [],
   "source": [
    "depth = data_fixed.ht\n",
    "land_mask = (depth*0).fillna(1)\n",
    "depth_shelf, shelf_mask = shelf_mask_isobath(depth, 'mom5')"
   ]
  },
  {
   "cell_type": "code",
   "execution_count": null,
   "id": "320f43eb-6e00-438c-b8f0-3da34b8e6564",
   "metadata": {},
   "outputs": [],
   "source": [
    "cont01_200_map = control01_salt.so.sel(time=slice('1918-01-01','1919-12-31')).sel(z_l=slice(0,220)).weighted(thick01['z_l'].fillna(0)).mean(dim='z_l').sel(yh=slice(None,-59)).mean(dim='time')\n",
    "pert01_200_map = trial01_salt.so.sel(time=slice('1918-01-01','1919-12-31')).sel(z_l=slice(0,220)).weighted(thick01['z_l'].fillna(0)).mean(dim='z_l').sel(yh=slice(None,-59)).mean(dim='time')"
   ]
  }
 ],
 "metadata": {
  "kernelspec": {
   "display_name": "Python [conda env:analysis3-24.04] *",
   "language": "python",
   "name": "conda-env-analysis3-24.04-py"
  },
  "language_info": {
   "codemirror_mode": {
    "name": "ipython",
    "version": 3
   },
   "file_extension": ".py",
   "mimetype": "text/x-python",
   "name": "python",
   "nbconvert_exporter": "python",
   "pygments_lexer": "ipython3",
   "version": "3.10.14"
  }
 },
 "nbformat": 4,
 "nbformat_minor": 5
}
