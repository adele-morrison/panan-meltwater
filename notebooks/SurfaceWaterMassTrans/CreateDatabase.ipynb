{
 "cells": [
  {
   "cell_type": "markdown",
   "id": "dd07eaa7-0256-439c-8a59-b7fc2dd17dc9",
   "metadata": {},
   "source": [
    "# Creating database"
   ]
  },
  {
   "cell_type": "code",
   "execution_count": 2,
   "id": "c94a042a-aac9-439e-8374-a09f27191523",
   "metadata": {},
   "outputs": [],
   "source": [
    "import cosima_cookbook as cc"
   ]
  },
  {
   "cell_type": "code",
   "execution_count": 3,
   "id": "e97b9ce4-5a5d-4d58-832d-a4d1fa084391",
   "metadata": {},
   "outputs": [
    {
     "name": "stdout",
     "output_type": "stream",
     "text": [
      "Help on function create_session in module cosima_cookbook.database:\n",
      "\n",
      "create_session(db=None, debug=False, timeout=15)\n",
      "    Create a session for the specified database file.\n",
      "    \n",
      "    If debug=True, the session will output raw SQL whenever it is executed on the database.\n",
      "\n"
     ]
    }
   ],
   "source": [
    "help(cc.database.create_session)"
   ]
  },
  {
   "cell_type": "code",
   "execution_count": 4,
   "id": "4d26cb5b-aff2-437d-a060-e6c4823e1712",
   "metadata": {},
   "outputs": [],
   "source": [
    "db = '/home/272/kc5856/local_cc_test.db'\n",
    "session = cc.database.create_session(db)"
   ]
  },
  {
   "cell_type": "code",
   "execution_count": null,
   "id": "b919a257-565e-4457-a90f-1b3dd3586ac6",
   "metadata": {
    "scrolled": true
   },
   "outputs": [
    {
     "name": "stdout",
     "output_type": "stream",
     "text": [
      "Indexing experiment: panant-01-zstar-ACCESSyr2\n"
     ]
    },
    {
     "name": "stderr",
     "output_type": "stream",
     "text": [
      "100%|██████████| 1000/1000 [02:31<00:00,  6.59it/s]\n",
      "100%|██████████| 1000/1000 [02:22<00:00,  7.01it/s]\n",
      "100%|██████████| 1000/1000 [02:28<00:00,  6.72it/s]\n",
      "100%|██████████| 1000/1000 [02:24<00:00,  6.94it/s]\n",
      "100%|██████████| 1000/1000 [02:21<00:00,  7.06it/s]\n",
      "100%|██████████| 1000/1000 [02:23<00:00,  6.96it/s]\n",
      "100%|██████████| 1000/1000 [02:21<00:00,  7.05it/s]\n",
      "100%|██████████| 1000/1000 [02:23<00:00,  6.97it/s]\n",
      "100%|██████████| 1000/1000 [02:25<00:00,  6.88it/s]\n",
      "100%|██████████| 1000/1000 [02:23<00:00,  6.95it/s]\n",
      "100%|██████████| 1000/1000 [02:17<00:00,  7.25it/s]\n",
      "100%|██████████| 1000/1000 [02:17<00:00,  7.26it/s]\n",
      "100%|██████████| 902/902 [02:26<00:00,  6.16it/s]\n"
     ]
    },
    {
     "name": "stdout",
     "output_type": "stream",
     "text": [
      "Indexing experiment: panant-01-zstar-ssp126-MW-only\n"
     ]
    },
    {
     "name": "stderr",
     "output_type": "stream",
     "text": [
      "100%|██████████| 228/228 [00:30<00:00,  7.55it/s]\n"
     ]
    },
    {
     "name": "stdout",
     "output_type": "stream",
     "text": [
      "Indexing experiment: panant-005-zstar-ACCESSyr2\n"
     ]
    },
    {
     "name": "stderr",
     "output_type": "stream",
     "text": [
      "100%|██████████| 1000/1000 [02:36<00:00,  6.38it/s]\n",
      "100%|██████████| 1000/1000 [02:34<00:00,  6.49it/s]\n",
      "100%|██████████| 1000/1000 [02:31<00:00,  6.61it/s]\n",
      "100%|██████████| 1000/1000 [02:25<00:00,  6.89it/s]\n",
      "100%|██████████| 1000/1000 [02:29<00:00,  6.69it/s]\n",
      "100%|██████████| 1000/1000 [02:29<00:00,  6.69it/s]\n",
      "100%|██████████| 1000/1000 [02:30<00:00,  6.62it/s]\n",
      "100%|██████████| 1000/1000 [02:23<00:00,  6.98it/s]\n",
      "100%|██████████| 1000/1000 [02:25<00:00,  6.88it/s]\n",
      "100%|██████████| 1000/1000 [02:22<00:00,  7.04it/s]\n",
      "100%|██████████| 1000/1000 [02:24<00:00,  6.91it/s]\n",
      "100%|██████████| 1000/1000 [02:25<00:00,  6.88it/s]\n",
      "100%|██████████| 1000/1000 [02:25<00:00,  6.88it/s]\n",
      "100%|██████████| 1000/1000 [02:30<00:00,  6.64it/s]\n",
      "100%|██████████| 43/43 [00:07<00:00,  5.50it/s]\n"
     ]
    },
    {
     "name": "stdout",
     "output_type": "stream",
     "text": [
      "Indexing experiment: panant-005-zstar-ssp126-MW-only\n"
     ]
    },
    {
     "name": "stderr",
     "output_type": "stream",
     "text": [
      " 31%|███       | 195/630 [00:26<00:58,  7.39it/s]"
     ]
    }
   ],
   "source": [
    "directory_list=['/g/data/ik11/outputs/mom6-panan/panant-01-zstar-ACCESSyr2',\n",
    "                '/g/data/g40/akm157/model_output/mom6-panan/panant-01-zstar-ssp126-MW-only',\n",
    "                '/g/data/ol01/outputs/mom6-panan/panant-005-zstar-ACCESSyr2',\n",
    "                '/g/data/g40/akm157/model_output/mom6-panan/panant-005-zstar-ssp126-MW-only/'\n",
    "\n",
    "               ]\n",
    "\n",
    "cc.database.build_index(directory_list, session)"
   ]
  },
  {
   "cell_type": "code",
   "execution_count": 3,
   "id": "52b7e620-3ae8-4db3-ab6f-3d729f45cdbe",
   "metadata": {},
   "outputs": [
    {
     "name": "stdout",
     "output_type": "stream",
     "text": [
      "Indexing experiment: 01deg_jra55v13_ryf9091_21mbath_sofia_ssp126\n",
      "Indexing experiment: 01deg_jra55v13_ryf9091_21mbath\n"
     ]
    },
    {
     "name": "stderr",
     "output_type": "stream",
     "text": [
      "100%|██████████| 1000/1000 [13:47<00:00,  1.21it/s]\n",
      "100%|██████████| 378/378 [06:59<00:00,  1.11s/it]\n"
     ]
    },
    {
     "name": "stdout",
     "output_type": "stream",
     "text": [
      "Indexing experiment: panant-005-zstar-ssp126-MW-only\n"
     ]
    },
    {
     "data": {
      "text/plain": [
       "1378"
      ]
     },
     "execution_count": 3,
     "metadata": {},
     "output_type": "execute_result"
    }
   ],
   "source": [
    "directory_list=['/g/data/ik11/outputs/access-om2-01/01deg_jra55v13_ryf9091_21mbath_sofia_ssp126/', #ACCESS control\n",
    "                '/g/data/ik11/outputs/access-om2-01/01deg_jra55v13_ryf9091_21mbath/', #ACCESS perturbation\n",
    "                '/g/data/g40/akm157/model_output/mom6-panan/panant-005-zstar-ssp126-MW-only/'] #Panan005 perturbation\n",
    "\n",
    "cc.database.build_index(directory_list, session)"
   ]
  },
  {
   "cell_type": "code",
   "execution_count": 6,
   "id": "2bd7fb63-6c07-4adf-8b5c-7161b1863d15",
   "metadata": {},
   "outputs": [
    {
     "name": "stdout",
     "output_type": "stream",
     "text": [
      "Indexing experiment: panant-01-zstar-ssp126-MW-only\n"
     ]
    },
    {
     "data": {
      "text/plain": [
       "0"
      ]
     },
     "execution_count": 6,
     "metadata": {},
     "output_type": "execute_result"
    }
   ],
   "source": [
    "directory_list=['/g/data/g40/akm157/model_output/mom6-panan/panant-01-zstar-ssp126-MW-only'] #Panan01 perturbation\n",
    "\n",
    "cc.database.build_index(directory_list, session)"
   ]
  },
  {
   "cell_type": "markdown",
   "id": "2700b746-c93f-4532-a884-420c7e738f4b",
   "metadata": {},
   "source": [
    "# New database as test"
   ]
  },
  {
   "cell_type": "code",
   "execution_count": 7,
   "id": "cb889697-8f53-4729-be7d-b083d8990076",
   "metadata": {},
   "outputs": [],
   "source": [
    "ds = '/home/272/kc5856/databases/honours_test.db'\n",
    "session = cc.database.create_session(ds)"
   ]
  },
  {
   "cell_type": "code",
   "execution_count": 8,
   "id": "e80ba653-60be-42f2-bfaa-827f1c2fd4f5",
   "metadata": {},
   "outputs": [
    {
     "name": "stdout",
     "output_type": "stream",
     "text": [
      "Indexing experiment: panant-01-zstar-ACCESSyr2\n"
     ]
    },
    {
     "name": "stderr",
     "output_type": "stream",
     "text": [
      "100%|██████████| 1000/1000 [02:51<00:00,  5.84it/s]\n",
      "100%|██████████| 1000/1000 [02:49<00:00,  5.92it/s]\n",
      "100%|██████████| 1000/1000 [02:40<00:00,  6.23it/s]\n",
      "100%|██████████| 1000/1000 [02:44<00:00,  6.09it/s]\n",
      "100%|██████████| 1000/1000 [02:47<00:00,  5.97it/s]\n",
      "100%|██████████| 1000/1000 [02:45<00:00,  6.06it/s]\n",
      "100%|██████████| 1000/1000 [02:43<00:00,  6.10it/s]\n",
      "100%|██████████| 1000/1000 [02:50<00:00,  5.87it/s]\n",
      "100%|██████████| 1000/1000 [02:49<00:00,  5.91it/s]\n",
      "100%|██████████| 1000/1000 [02:48<00:00,  5.94it/s]\n",
      "100%|██████████| 1000/1000 [02:39<00:00,  6.25it/s]\n",
      "100%|██████████| 1000/1000 [02:44<00:00,  6.09it/s]\n",
      "100%|██████████| 902/902 [02:27<00:00,  6.10it/s]\n"
     ]
    },
    {
     "name": "stdout",
     "output_type": "stream",
     "text": [
      "Indexing experiment: panant-01-zstar-ssp126-MW-only\n"
     ]
    },
    {
     "name": "stderr",
     "output_type": "stream",
     "text": [
      "100%|██████████| 228/228 [00:32<00:00,  7.08it/s]\n"
     ]
    },
    {
     "data": {
      "text/plain": [
       "13130"
      ]
     },
     "execution_count": 8,
     "metadata": {},
     "output_type": "execute_result"
    }
   ],
   "source": [
    "#First just doing Panan01\n",
    "\n",
    "directory_list=['/g/data/ik11/outputs/mom6-panan/panant-01-zstar-ACCESSyr2',\n",
    "                '/g/data/g40/akm157/model_output/mom6-panan/panant-01-zstar-ssp126-MW-only']\n",
    "\n",
    "cc.database.build_index(directory_list, session)"
   ]
  },
  {
   "cell_type": "code",
   "execution_count": null,
   "id": "9c99fbf1-f4d8-4655-8be8-bd54d9bff4af",
   "metadata": {},
   "outputs": [],
   "source": [
    "#Now just doing Panan005\n",
    "\n",
    "directory_list=['/g/data/ol01/outputs/mom6-panan/panant-005-zstar-ACCESSyr2',\n",
    "                '/g/data/g40/akm157/model_output/mom6-panan/panant-005-zstar-ssp126-MW-only/']\n",
    "\n",
    "cc.database.build_index(directory_list, session)"
   ]
  },
  {
   "cell_type": "code",
   "execution_count": null,
   "id": "63cc20ec-f4e7-4bf0-b9df-298205c8c51a",
   "metadata": {},
   "outputs": [],
   "source": [
    "#Now doing ACCESS\n",
    "\n",
    "directory_list=['/g/data/ik11/outputs/access-om2-01/01deg_jra55v13_ryf9091_21mbath_sofia_ssp126/',\n",
    "                '/g/data/ik11/outputs/access-om2-01/01deg_jra55v13_ryf9091_21mbath/']\n",
    "\n",
    "cc.database.build_index(directory_list, session)"
   ]
  }
 ],
 "metadata": {
  "kernelspec": {
   "display_name": "Python [conda env:analysis3-24.04] *",
   "language": "python",
   "name": "conda-env-analysis3-24.04-py"
  },
  "language_info": {
   "codemirror_mode": {
    "name": "ipython",
    "version": 3
   },
   "file_extension": ".py",
   "mimetype": "text/x-python",
   "name": "python",
   "nbconvert_exporter": "python",
   "pygments_lexer": "ipython3",
   "version": "3.10.14"
  }
 },
 "nbformat": 4,
 "nbformat_minor": 5
}
