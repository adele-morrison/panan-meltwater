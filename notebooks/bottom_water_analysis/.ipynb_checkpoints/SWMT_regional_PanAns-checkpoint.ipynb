{
 "cells": [
  {
   "cell_type": "markdown",
   "id": "891a6f6d-7942-4f23-957d-a0377ba195ae",
   "metadata": {},
   "source": [
    "# SWMT regions PanAntarctic"
   ]
  },
  {
   "cell_type": "code",
   "execution_count": null,
   "id": "19d93394-4c6b-475f-bfbc-51d14d2290fc",
   "metadata": {},
   "outputs": [],
   "source": [
    "import intake\n",
    "import glob\n",
    "from pathlib import Path\n",
    "import cartopy.crs as ccrs\n",
    "import cf_xarray as cfxr\n",
    "import cmocean as cm\n",
    "import dask.distributed\n",
    "import gsw\n",
    "import matplotlib.pyplot as plt\n",
    "from matplotlib import gridspec \n",
    "import matplotlib.colors as mcolors\n",
    "import matplotlib.path as mpath\n",
    "import numpy as np\n",
    "import xarray as xr\n",
    "import pdb\n",
    "import os\n",
    "import pathlib\n",
    "import shutil\n",
    "\n",
    "import warnings # ignore these warnings\n",
    "warnings.filterwarnings(\"ignore\", category = FutureWarning)\n",
    "warnings.filterwarnings(\"ignore\", category = UserWarning)\n",
    "warnings.filterwarnings(\"ignore\", category = RuntimeWarning)"
   ]
  },
  {
   "cell_type": "code",
   "execution_count": null,
   "id": "aeb95ac0-d008-4db9-97a9-d35be92e7052",
   "metadata": {},
   "outputs": [],
   "source": [
    "#Starting a dask client\n",
    "from os import environ\n",
    "environ[\"PYTHONWARNINGS\"] = \"ignore\"\n",
    "\n",
    "from dask.distributed import Client\n",
    "client = Client(threads_per_worker = 1)\n",
    "client"
   ]
  },
  {
   "cell_type": "markdown",
   "id": "5ad1bedb-e9e5-4511-9493-ac5de56bba29",
   "metadata": {},
   "source": [
    "## Importing the saved files"
   ]
  },
  {
   "cell_type": "code",
   "execution_count": null,
   "id": "e6eae5dd-d5ac-4095-97f1-00fff008314c",
   "metadata": {},
   "outputs": [],
   "source": [
    "# Open data\n",
    "save_dir = '/g/data/g40/kc5856/access_panan_ssp126_SWMT/old_Pan01_SWMT_shelf_rho0/plots/'\n",
    "\n",
    "Adelie_01_C_map = xr.open_dataset(save_dir + 'swmt_shelf_sum_ave_C_Adelie_pan01.nc').to_array().squeeze()\n",
    "Adelie_01_M_map = xr.open_dataset(save_dir + 'swmt_shelf_sum_ave_M_Adelie_pan01.nc').to_array().squeeze()\n",
    "Adelie_005_C_map = xr.open_dataset(save_dir + 'swmt_shelf_sum_ave_C_Adelie_pan005.nc').to_array().squeeze()\n",
    "Adelie_005_M_map = xr.open_dataset(save_dir + 'swmt_shelf_sum_ave_M_Adelie_pan05.nc').to_array().squeeze()\n",
    "\n",
    "Ross_01_C_map = xr.open_dataset(save_dir + 'swmt_shelf_sum_ave_C_Ross_pan01.nc').to_array().squeeze()\n",
    "Ross_01_M_map = xr.open_dataset(save_dir + 'swmt_shelf_sum_ave_M_Ross_pan01.nc').to_array().squeeze()\n",
    "Ross_005_C_map = xr.open_dataset(save_dir + 'swmt_shelf_sum_ave_C_Ross_pan005.nc').to_array().squeeze()\n",
    "Ross_005_M_map = xr.open_dataset(save_dir + 'swmt_shelf_sum_ave_M_Ross_pan05.nc').to_array().squeeze()\n",
    "\n",
    "Am_01_C_map = xr.open_dataset(save_dir + 'swmt_shelf_sum_ave_C_Am_pan01.nc').to_array().squeeze()\n",
    "Am_01_M_map = xr.open_dataset(save_dir + 'swmt_shelf_sum_ave_M_Am_pan01.nc').to_array().squeeze()\n",
    "Am_005_C_map = xr.open_dataset(save_dir + 'swmt_shelf_sum_ave_C_Am_pan005.nc').to_array().squeeze()\n",
    "Am_005_M_map = xr.open_dataset(save_dir + 'swmt_shelf_sum_ave_M_Am_pan05.nc').to_array().squeeze()\n",
    "\n",
    "Be_01_C_map = xr.open_dataset(save_dir + 'swmt_shelf_sum_ave_C_Be_pan01.nc').to_array().squeeze()\n",
    "Be_01_M_map = xr.open_dataset(save_dir + 'swmt_shelf_sum_ave_M_Be_pan01.nc').to_array().squeeze()\n",
    "Be_005_C_map = xr.open_dataset(save_dir + 'swmt_shelf_sum_ave_C_Be_pan005.nc').to_array().squeeze()\n",
    "Be_005_M_map = xr.open_dataset(save_dir + 'swmt_shelf_sum_ave_M_Be_pan05.nc').to_array().squeeze()\n",
    "\n",
    "Weddell_01_C_map = xr.open_dataset(save_dir + 'swmt_shelf_sum_ave_C_Weddell_pan01.nc').to_array().squeeze()\n",
    "Weddell_01_M_map = xr.open_dataset(save_dir + 'swmt_shelf_sum_ave_M_Weddell_pan01.nc').to_array().squeeze()\n",
    "Weddell_005_C_map = xr.open_dataset(save_dir + 'swmt_shelf_sum_ave_C_Weddell_pan005.nc').to_array().squeeze()\n",
    "Weddell_005_M_map = xr.open_dataset(save_dir + 'swmt_shelf_sum_ave_M_Weddell_pan05.nc').to_array().squeeze()\n",
    "\n",
    "Prydz_01_C_map = xr.open_dataset(save_dir + 'swmt_shelf_sum_ave_C_Prydz_pan01.nc').to_array().squeeze()\n",
    "Prydz_01_M_map = xr.open_dataset(save_dir + 'swmt_shelf_sum_ave_M_Prydz_pan01.nc').to_array().squeeze()\n",
    "Prydz_005_C_map = xr.open_dataset(save_dir + 'swmt_shelf_sum_ave_C_Prydz_pan005.nc').to_array().squeeze()\n",
    "Prydz_005_M_map = xr.open_dataset(save_dir + 'swmt_shelf_sum_ave_M_Prydz_pan05.nc').to_array().squeeze()"
   ]
  },
  {
   "cell_type": "code",
   "execution_count": null,
   "id": "7ca028cd-4914-49a8-9026-9145a887a21c",
   "metadata": {},
   "outputs": [],
   "source": [
    "# Calculate anomalies\n",
    "Adelie_01 = Adelie_01_M_map - Adelie_01_C_map\n",
    "Adelie_005 = Adelie_005_M_map - Adelie_005_C_map\n",
    "\n",
    "Ross_01 = Ross_01_M_map - Ross_01_C_map\n",
    "Ross_005 = Ross_005_M_map - Ross_005_C_map\n",
    "\n",
    "Am_01 = Am_01_M_map - Am_01_C_map\n",
    "Am_005 = Am_005_M_map - Am_005_C_map\n",
    "\n",
    "Be_01 = Be_01_M_map - Be_01_C_map\n",
    "Be_005 = Be_005_M_map - Be_005_C_map\n",
    "\n",
    "Weddell_01 = Weddell_01_M_map - Weddell_01_C_map\n",
    "Weddell_005 = Weddell_005_M_map - Weddell_005_C_map\n",
    "\n",
    "Prydz_01 = Prydz_01_M_map - Prydz_01_C_map\n",
    "Prydz_005 = Prydz_005_M_map - Prydz_005_C_map"
   ]
  }
 ],
 "metadata": {
  "kernelspec": {
   "display_name": "Python [conda env:analysis3-25.07] *",
   "language": "python",
   "name": "conda-env-analysis3-25.07-py"
  },
  "language_info": {
   "codemirror_mode": {
    "name": "ipython",
    "version": 3
   },
   "file_extension": ".py",
   "mimetype": "text/x-python",
   "name": "python",
   "nbconvert_exporter": "python",
   "pygments_lexer": "ipython3",
   "version": "3.11.13"
  }
 },
 "nbformat": 4,
 "nbformat_minor": 5
}
