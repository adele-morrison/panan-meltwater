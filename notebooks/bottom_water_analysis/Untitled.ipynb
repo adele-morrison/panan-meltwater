{
 "cells": [
  {
   "cell_type": "code",
   "execution_count": 1,
   "id": "4ca8cd72-c9bc-44fe-9776-90c6a24e91ee",
   "metadata": {},
   "outputs": [],
   "source": [
    "from pyinstrument import Profiler"
   ]
  },
  {
   "cell_type": "code",
   "execution_count": null,
   "id": "6a4dba62-e7d7-4f4f-a374-5ba7d5f3a543",
   "metadata": {},
   "outputs": [],
   "source": []
  }
 ],
 "metadata": {
  "kernelspec": {
   "display_name": "Python [conda env:analysis3-24.07]",
   "language": "python",
   "name": "conda-env-analysis3-24.07-py"
  },
  "language_info": {
   "codemirror_mode": {
    "name": "ipython",
    "version": 3
   },
   "file_extension": ".py",
   "mimetype": "text/x-python",
   "name": "python",
   "nbconvert_exporter": "python",
   "pygments_lexer": "ipython3",
   "version": "3.11.0"
  }
 },
 "nbformat": 4,
 "nbformat_minor": 5
}
