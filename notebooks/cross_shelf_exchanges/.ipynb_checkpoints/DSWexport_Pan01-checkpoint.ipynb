{
 "cells": [
  {
   "cell_type": "markdown",
   "id": "2dc73c71-1506-4e66-b4df-b7749cdeeea5",
   "metadata": {},
   "source": [
    "# DSW Export"
   ]
  },
  {
   "cell_type": "code",
   "execution_count": null,
   "id": "43da70d0-8320-4490-8c1c-d2650c5f53f7",
   "metadata": {},
   "outputs": [],
   "source": []
  }
 ],
 "metadata": {
  "kernelspec": {
   "display_name": "Python [conda env:analysis3-25.06] *",
   "language": "python",
   "name": "conda-env-analysis3-25.06-py"
  },
  "language_info": {
   "codemirror_mode": {
    "name": "ipython",
    "version": 3
   },
   "file_extension": ".py",
   "mimetype": "text/x-python",
   "name": "python",
   "nbconvert_exporter": "python",
   "pygments_lexer": "ipython3",
   "version": "3.11.13"
  }
 },
 "nbformat": 4,
 "nbformat_minor": 5
}
