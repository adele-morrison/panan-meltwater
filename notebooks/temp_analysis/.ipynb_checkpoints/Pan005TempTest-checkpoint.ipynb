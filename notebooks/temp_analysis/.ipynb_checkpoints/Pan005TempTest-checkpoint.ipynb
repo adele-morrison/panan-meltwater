{
 "cells": [
  {
   "cell_type": "markdown",
   "id": "780f4b39-cbc5-4a07-be4d-032dac698d4d",
   "metadata": {},
   "source": [
    "# Pan05 Temp test"
   ]
  },
  {
   "cell_type": "code",
   "execution_count": 1,
   "id": "c90df934-ded9-4516-ac8b-79f97747c384",
   "metadata": {},
   "outputs": [],
   "source": [
    "import intake\n",
    "\n",
    "import matplotlib.pyplot as plt\n",
    "import xarray as xr\n",
    "import cf_xarray as cfxr\n",
    "import numpy as np\n",
    "\n",
    "import cmocean as cm\n",
    "import cartopy.crs as ccrs\n",
    "\n",
    "import cartopy.feature as cft\n",
    "import matplotlib.path as mpath"
   ]
  },
  {
   "cell_type": "code",
   "execution_count": 2,
   "id": "d94a05df-f497-4663-901b-ef119095d820",
   "metadata": {},
   "outputs": [],
   "source": [
    "#Importing data\n",
    "pancontrol005 = intake.open_esm_datastore('/home/272/kc5856/catalog_dir/panant_005_zstar_access_yr2.json', columns_with_iterables=['variable'])\n",
    "pantrial005 = intake.open_esm_datastore('/home/272/kc5856/panantrial/panant_005_zstar_MWonly.json', columns_with_iterables=['variable'])"
   ]
  },
  {
   "cell_type": "code",
   "execution_count": 3,
   "id": "a39198ed-9ca8-4a81-a139-acbbd47ee8cf",
   "metadata": {},
   "outputs": [
    {
     "name": "stderr",
     "output_type": "stream",
     "text": [
      "/g/data/hh5/public/apps/miniconda3/envs/analysis3-24.04/lib/python3.10/site-packages/distributed/node.py:182: UserWarning: Port 8787 is already in use.\n",
      "Perhaps you already have a cluster running?\n",
      "Hosting the HTTP server on port 39215 instead\n",
      "  warnings.warn(\n"
     ]
    }
   ],
   "source": [
    "#Starting a dask client\n",
    "from os import environ\n",
    "environ[\"PYTHONWARNINGS\"] = \"ignore\"\n",
    "\n",
    "from dask.distributed import Client\n",
    "client = Client(threads_per_worker=1)"
   ]
  },
  {
   "cell_type": "code",
   "execution_count": 4,
   "id": "b1e3e0a5-9cd9-49a5-9a20-a7306a97a87f",
   "metadata": {},
   "outputs": [],
   "source": [
    "#Time variant variables #Can this be condensed?\n",
    "control005_temp = pancontrol005.search(variable=[\"thetao\"],frequency=\"1mon\",file_id=[\"XXXXXXXX_ocean_month_z\"]).to_dask()\n",
    "trial005_temp = pantrial005.search(variable=\"thetao\", frequency=\"1mon\").to_dask()"
   ]
  },
  {
   "cell_type": "code",
   "execution_count": 6,
   "id": "f0bb4f4e-8ba5-47d8-aff4-df6cd3971628",
   "metadata": {},
   "outputs": [],
   "source": [
    "#Time invariant variables\n",
    "data005_fixed = pancontrol005.search(variable=[\"areacello\",\"deptho\"],path=\".*output021.*\").to_dask()\n",
    "vol005 = pancontrol005.search(variable=[\"volcello\"],path=\".*output021.*\",file_id=[\"XXXXXXXX_ocean_month_z\"]).to_dask()"
   ]
  },
  {
   "cell_type": "code",
   "execution_count": 7,
   "id": "a84d32ce-adf3-46be-a435-43e3967456df",
   "metadata": {},
   "outputs": [],
   "source": [
    "#Area weighting\n",
    "areacello005 = data005_fixed.areacello\n",
    "thick005 = vol005 / areacello005\n",
    "thick005 = thick005.load()"
   ]
  },
  {
   "cell_type": "markdown",
   "id": "ac685e5b-8d14-42c9-95c7-613eabee7f14",
   "metadata": {},
   "source": [
    "Shelf mask"
   ]
  },
  {
   "cell_type": "code",
   "execution_count": 9,
   "id": "1d812498-9bb9-419f-aeb8-cf94c2e8aebe",
   "metadata": {},
   "outputs": [],
   "source": [
    "def shelf_mask_isobath(var, model_dict):\n",
    "\n",
    "    paths = {\n",
    "             \"mom5\": \"/g/data/ik11/grids/Antarctic_slope_contour_1000m.npz\",\n",
    "             \"mom6_01\": \"/g/data/ik11/grids/Antarctic_slope_contour_1000m_MOM6_01deg.nc\",\n",
    "            \"mom6_005\": \"/g/data/ik11/grids/Antarctic_slope_contour_1000m_MOM6_005deg.nc\"\n",
    "             }\n",
    "\n",
    "    var = var.cf.sel({'latitude': slice(-90, -59)})\n",
    "\n",
    "    if paths[model_dict][-3:] == '.nc':\n",
    "        shelf_mask = xr.open_dataset(paths[model_dict])['contour_masked_above']\n",
    "    else:\n",
    "        contour_file = np.load(paths[model_dict])\n",
    "        shelf_mask = xr.DataArray(contour_file['contour_masked_above'],\n",
    "                                  coords = var.coords, \n",
    "                                  dims = var.dims,\n",
    "                                  name = 'contour_masked_above')\n",
    "    \n",
    "    shelf_mask = xr.where(shelf_mask == 0, 1, 0)\n",
    "    masked_var = var * shelf_mask\n",
    "    \n",
    "    return masked_var, shelf_mask"
   ]
  },
  {
   "cell_type": "code",
   "execution_count": 10,
   "id": "64acc3a0-740a-4383-8298-68300c61a4d1",
   "metadata": {},
   "outputs": [],
   "source": [
    "depth005 = data005_fixed.deptho\n",
    "land_mask = (depth005*0).fillna(1)\n",
    "depth_shelf, shelf_mask = shelf_mask_isobath(depth005, 'mom6_005')"
   ]
  },
  {
   "cell_type": "markdown",
   "id": "b537eb59-8e5c-49d4-91b8-32b4d03f56ad",
   "metadata": {},
   "source": [
    "Loading top 500m average"
   ]
  },
  {
   "cell_type": "code",
   "execution_count": 11,
   "id": "a1744039-39f7-4f41-8781-be108296a85e",
   "metadata": {},
   "outputs": [],
   "source": [
    "# Slicing first\n",
    "cont005_500_time = control005_temp.thetao.sel(z_l=slice(0,520)).sel(time=slice('2001-01-01','2010-12-31')).sel(yh=slice(None,-59))\n",
    "pert005_500_time = trial005_temp.thetao.sel(z_l=slice(0,520)).sel(time=slice('2001-01-01','2010-12-31')).sel(yh=slice(None,-59))"
   ]
  },
  {
   "cell_type": "code",
   "execution_count": 12,
   "id": "4b5304ac-e6b9-43e7-8b93-5236bc20937a",
   "metadata": {},
   "outputs": [],
   "source": [
    "# Weighting and means\n",
    "cont005_500_time = cont005_500_time.weighted(thick005['z_l'].fillna(0)).mean(dim='z_l').where(shelf_mask == 1).weighted(areacello005.fillna(0)).mean(dim=('xh','yh'))\n",
    "pert005_500_time = pert005_500_time.weighted(thick005['z_l'].fillna(0)).mean(dim='z_l').where(shelf_mask == 1).weighted(areacello005.fillna(0)).mean(dim=('xh','yh'))"
   ]
  },
  {
   "cell_type": "code",
   "execution_count": null,
   "id": "9631db05-7afb-4960-8b41-af6086b0c3ce",
   "metadata": {},
   "outputs": [
    {
     "name": "stderr",
     "output_type": "stream",
     "text": [
      "/g/data/hh5/public/apps/miniconda3/envs/analysis3-24.04/lib/python3.10/site-packages/distributed/client.py:3357: UserWarning: Sending large graph of size 105.95 MiB.\n",
      "This may cause some slowdown.\n",
      "Consider scattering data ahead of time and using futures.\n",
      "  warnings.warn(\n"
     ]
    }
   ],
   "source": [
    "cont005_500_time = cont005_500_time.load()\n",
    "pert005_500_time = pert005_500_time.load()"
   ]
  },
  {
   "cell_type": "code",
   "execution_count": null,
   "id": "ee20bb04-5be5-4ad2-a3b0-49e1ef4defe0",
   "metadata": {},
   "outputs": [],
   "source": [
    "cont005_500_time.plot(label=\"Control\")\n",
    "pert005_500_time.plot(label=\"Perturbation\")\n",
    "plt.xlim(380,4000)\n",
    "plt.legend(loc=\"lower left\")\n",
    "plt.title(\"Panan005 Time Series of Temperature for shelf top 500m\")"
   ]
  }
 ],
 "metadata": {
  "kernelspec": {
   "display_name": "Python [conda env:analysis3-24.04] *",
   "language": "python",
   "name": "conda-env-analysis3-24.04-py"
  },
  "language_info": {
   "codemirror_mode": {
    "name": "ipython",
    "version": 3
   },
   "file_extension": ".py",
   "mimetype": "text/x-python",
   "name": "python",
   "nbconvert_exporter": "python",
   "pygments_lexer": "ipython3",
   "version": "3.10.14"
  }
 },
 "nbformat": 4,
 "nbformat_minor": 5
}
